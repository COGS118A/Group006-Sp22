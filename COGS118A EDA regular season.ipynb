{
 "cells": [
  {
   "cell_type": "code",
   "execution_count": 1,
   "id": "ef6ea0ad",
   "metadata": {},
   "outputs": [],
   "source": [
    "import numpy as np\n",
    "import pandas as pd\n",
    "import seaborn as sns\n",
    "import matplotlib.pyplot as plt"
   ]
  },
  {
   "cell_type": "code",
   "execution_count": 2,
   "id": "cf9dfeb8",
   "metadata": {},
   "outputs": [],
   "source": [
    "# https://www.kaggle.com/c/mens-march-mania-2022/data\n",
    "data = pd.read_csv('MRegularSeasonDetailedResults.csv')"
   ]
  },
  {
   "cell_type": "code",
   "execution_count": 3,
   "id": "90ddd49d",
   "metadata": {},
   "outputs": [
    {
     "data": {
      "text/html": [
       "<div>\n",
       "<style scoped>\n",
       "    .dataframe tbody tr th:only-of-type {\n",
       "        vertical-align: middle;\n",
       "    }\n",
       "\n",
       "    .dataframe tbody tr th {\n",
       "        vertical-align: top;\n",
       "    }\n",
       "\n",
       "    .dataframe thead th {\n",
       "        text-align: right;\n",
       "    }\n",
       "</style>\n",
       "<table border=\"1\" class=\"dataframe\">\n",
       "  <thead>\n",
       "    <tr style=\"text-align: right;\">\n",
       "      <th></th>\n",
       "      <th>Season</th>\n",
       "      <th>DayNum</th>\n",
       "      <th>WTeamID</th>\n",
       "      <th>WScore</th>\n",
       "      <th>LTeamID</th>\n",
       "      <th>LScore</th>\n",
       "      <th>WLoc</th>\n",
       "      <th>NumOT</th>\n",
       "      <th>WFGM</th>\n",
       "      <th>WFGA</th>\n",
       "      <th>WFGM3</th>\n",
       "      <th>WFGA3</th>\n",
       "      <th>WFTM</th>\n",
       "      <th>WFTA</th>\n",
       "      <th>WOR</th>\n",
       "      <th>WDR</th>\n",
       "      <th>WAst</th>\n",
       "      <th>WTO</th>\n",
       "      <th>WStl</th>\n",
       "      <th>WBlk</th>\n",
       "      <th>WPF</th>\n",
       "      <th>LFGM</th>\n",
       "      <th>LFGA</th>\n",
       "      <th>LFGM3</th>\n",
       "      <th>LFGA3</th>\n",
       "      <th>LFTM</th>\n",
       "      <th>LFTA</th>\n",
       "      <th>LOR</th>\n",
       "      <th>LDR</th>\n",
       "      <th>LAst</th>\n",
       "      <th>LTO</th>\n",
       "      <th>LStl</th>\n",
       "      <th>LBlk</th>\n",
       "      <th>LPF</th>\n",
       "    </tr>\n",
       "  </thead>\n",
       "  <tbody>\n",
       "    <tr>\n",
       "      <th>0</th>\n",
       "      <td>2003</td>\n",
       "      <td>10</td>\n",
       "      <td>1104</td>\n",
       "      <td>68</td>\n",
       "      <td>1328</td>\n",
       "      <td>62</td>\n",
       "      <td>N</td>\n",
       "      <td>0</td>\n",
       "      <td>27</td>\n",
       "      <td>58</td>\n",
       "      <td>3</td>\n",
       "      <td>14</td>\n",
       "      <td>11</td>\n",
       "      <td>18</td>\n",
       "      <td>14</td>\n",
       "      <td>24</td>\n",
       "      <td>13</td>\n",
       "      <td>23</td>\n",
       "      <td>7</td>\n",
       "      <td>1</td>\n",
       "      <td>22</td>\n",
       "      <td>22</td>\n",
       "      <td>53</td>\n",
       "      <td>2</td>\n",
       "      <td>10</td>\n",
       "      <td>16</td>\n",
       "      <td>22</td>\n",
       "      <td>10</td>\n",
       "      <td>22</td>\n",
       "      <td>8</td>\n",
       "      <td>18</td>\n",
       "      <td>9</td>\n",
       "      <td>2</td>\n",
       "      <td>20</td>\n",
       "    </tr>\n",
       "    <tr>\n",
       "      <th>1</th>\n",
       "      <td>2003</td>\n",
       "      <td>10</td>\n",
       "      <td>1272</td>\n",
       "      <td>70</td>\n",
       "      <td>1393</td>\n",
       "      <td>63</td>\n",
       "      <td>N</td>\n",
       "      <td>0</td>\n",
       "      <td>26</td>\n",
       "      <td>62</td>\n",
       "      <td>8</td>\n",
       "      <td>20</td>\n",
       "      <td>10</td>\n",
       "      <td>19</td>\n",
       "      <td>15</td>\n",
       "      <td>28</td>\n",
       "      <td>16</td>\n",
       "      <td>13</td>\n",
       "      <td>4</td>\n",
       "      <td>4</td>\n",
       "      <td>18</td>\n",
       "      <td>24</td>\n",
       "      <td>67</td>\n",
       "      <td>6</td>\n",
       "      <td>24</td>\n",
       "      <td>9</td>\n",
       "      <td>20</td>\n",
       "      <td>20</td>\n",
       "      <td>25</td>\n",
       "      <td>7</td>\n",
       "      <td>12</td>\n",
       "      <td>8</td>\n",
       "      <td>6</td>\n",
       "      <td>16</td>\n",
       "    </tr>\n",
       "    <tr>\n",
       "      <th>2</th>\n",
       "      <td>2003</td>\n",
       "      <td>11</td>\n",
       "      <td>1266</td>\n",
       "      <td>73</td>\n",
       "      <td>1437</td>\n",
       "      <td>61</td>\n",
       "      <td>N</td>\n",
       "      <td>0</td>\n",
       "      <td>24</td>\n",
       "      <td>58</td>\n",
       "      <td>8</td>\n",
       "      <td>18</td>\n",
       "      <td>17</td>\n",
       "      <td>29</td>\n",
       "      <td>17</td>\n",
       "      <td>26</td>\n",
       "      <td>15</td>\n",
       "      <td>10</td>\n",
       "      <td>5</td>\n",
       "      <td>2</td>\n",
       "      <td>25</td>\n",
       "      <td>22</td>\n",
       "      <td>73</td>\n",
       "      <td>3</td>\n",
       "      <td>26</td>\n",
       "      <td>14</td>\n",
       "      <td>23</td>\n",
       "      <td>31</td>\n",
       "      <td>22</td>\n",
       "      <td>9</td>\n",
       "      <td>12</td>\n",
       "      <td>2</td>\n",
       "      <td>5</td>\n",
       "      <td>23</td>\n",
       "    </tr>\n",
       "    <tr>\n",
       "      <th>3</th>\n",
       "      <td>2003</td>\n",
       "      <td>11</td>\n",
       "      <td>1296</td>\n",
       "      <td>56</td>\n",
       "      <td>1457</td>\n",
       "      <td>50</td>\n",
       "      <td>N</td>\n",
       "      <td>0</td>\n",
       "      <td>18</td>\n",
       "      <td>38</td>\n",
       "      <td>3</td>\n",
       "      <td>9</td>\n",
       "      <td>17</td>\n",
       "      <td>31</td>\n",
       "      <td>6</td>\n",
       "      <td>19</td>\n",
       "      <td>11</td>\n",
       "      <td>12</td>\n",
       "      <td>14</td>\n",
       "      <td>2</td>\n",
       "      <td>18</td>\n",
       "      <td>18</td>\n",
       "      <td>49</td>\n",
       "      <td>6</td>\n",
       "      <td>22</td>\n",
       "      <td>8</td>\n",
       "      <td>15</td>\n",
       "      <td>17</td>\n",
       "      <td>20</td>\n",
       "      <td>9</td>\n",
       "      <td>19</td>\n",
       "      <td>4</td>\n",
       "      <td>3</td>\n",
       "      <td>23</td>\n",
       "    </tr>\n",
       "    <tr>\n",
       "      <th>4</th>\n",
       "      <td>2003</td>\n",
       "      <td>11</td>\n",
       "      <td>1400</td>\n",
       "      <td>77</td>\n",
       "      <td>1208</td>\n",
       "      <td>71</td>\n",
       "      <td>N</td>\n",
       "      <td>0</td>\n",
       "      <td>30</td>\n",
       "      <td>61</td>\n",
       "      <td>6</td>\n",
       "      <td>14</td>\n",
       "      <td>11</td>\n",
       "      <td>13</td>\n",
       "      <td>17</td>\n",
       "      <td>22</td>\n",
       "      <td>12</td>\n",
       "      <td>14</td>\n",
       "      <td>4</td>\n",
       "      <td>4</td>\n",
       "      <td>20</td>\n",
       "      <td>24</td>\n",
       "      <td>62</td>\n",
       "      <td>6</td>\n",
       "      <td>16</td>\n",
       "      <td>17</td>\n",
       "      <td>27</td>\n",
       "      <td>21</td>\n",
       "      <td>15</td>\n",
       "      <td>12</td>\n",
       "      <td>10</td>\n",
       "      <td>7</td>\n",
       "      <td>1</td>\n",
       "      <td>14</td>\n",
       "    </tr>\n",
       "  </tbody>\n",
       "</table>\n",
       "</div>"
      ],
      "text/plain": [
       "   Season  DayNum  WTeamID  WScore  LTeamID  LScore WLoc  NumOT  WFGM  WFGA  \\\n",
       "0    2003      10     1104      68     1328      62    N      0    27    58   \n",
       "1    2003      10     1272      70     1393      63    N      0    26    62   \n",
       "2    2003      11     1266      73     1437      61    N      0    24    58   \n",
       "3    2003      11     1296      56     1457      50    N      0    18    38   \n",
       "4    2003      11     1400      77     1208      71    N      0    30    61   \n",
       "\n",
       "   WFGM3  WFGA3  WFTM  WFTA  WOR  WDR  WAst  WTO  WStl  WBlk  WPF  LFGM  LFGA  \\\n",
       "0      3     14    11    18   14   24    13   23     7     1   22    22    53   \n",
       "1      8     20    10    19   15   28    16   13     4     4   18    24    67   \n",
       "2      8     18    17    29   17   26    15   10     5     2   25    22    73   \n",
       "3      3      9    17    31    6   19    11   12    14     2   18    18    49   \n",
       "4      6     14    11    13   17   22    12   14     4     4   20    24    62   \n",
       "\n",
       "   LFGM3  LFGA3  LFTM  LFTA  LOR  LDR  LAst  LTO  LStl  LBlk  LPF  \n",
       "0      2     10    16    22   10   22     8   18     9     2   20  \n",
       "1      6     24     9    20   20   25     7   12     8     6   16  \n",
       "2      3     26    14    23   31   22     9   12     2     5   23  \n",
       "3      6     22     8    15   17   20     9   19     4     3   23  \n",
       "4      6     16    17    27   21   15    12   10     7     1   14  "
      ]
     },
     "execution_count": 3,
     "metadata": {},
     "output_type": "execute_result"
    }
   ],
   "source": [
    "# want to see all columns\n",
    "pd.set_option('display.max_columns', None)\n",
    "data.head()"
   ]
  },
  {
   "cell_type": "code",
   "execution_count": 4,
   "id": "e7c4722d",
   "metadata": {},
   "outputs": [
    {
     "data": {
      "text/plain": [
       "Season     0\n",
       "DayNum     0\n",
       "WTeamID    0\n",
       "WScore     0\n",
       "LTeamID    0\n",
       "LScore     0\n",
       "WLoc       0\n",
       "NumOT      0\n",
       "WFGM       0\n",
       "WFGA       0\n",
       "WFGM3      0\n",
       "WFGA3      0\n",
       "WFTM       0\n",
       "WFTA       0\n",
       "WOR        0\n",
       "WDR        0\n",
       "WAst       0\n",
       "WTO        0\n",
       "WStl       0\n",
       "WBlk       0\n",
       "WPF        0\n",
       "LFGM       0\n",
       "LFGA       0\n",
       "LFGM3      0\n",
       "LFGA3      0\n",
       "LFTM       0\n",
       "LFTA       0\n",
       "LOR        0\n",
       "LDR        0\n",
       "LAst       0\n",
       "LTO        0\n",
       "LStl       0\n",
       "LBlk       0\n",
       "LPF        0\n",
       "dtype: int64"
      ]
     },
     "execution_count": 4,
     "metadata": {},
     "output_type": "execute_result"
    }
   ],
   "source": [
    "# checking for missing values\n",
    "data.isna().sum()\n",
    "# no nan values here!"
   ]
  },
  {
   "cell_type": "code",
   "execution_count": 5,
   "id": "4d3804ce",
   "metadata": {},
   "outputs": [
    {
     "data": {
      "text/html": [
       "<div>\n",
       "<style scoped>\n",
       "    .dataframe tbody tr th:only-of-type {\n",
       "        vertical-align: middle;\n",
       "    }\n",
       "\n",
       "    .dataframe tbody tr th {\n",
       "        vertical-align: top;\n",
       "    }\n",
       "\n",
       "    .dataframe thead th {\n",
       "        text-align: right;\n",
       "    }\n",
       "</style>\n",
       "<table border=\"1\" class=\"dataframe\">\n",
       "  <thead>\n",
       "    <tr style=\"text-align: right;\">\n",
       "      <th></th>\n",
       "      <th>Season</th>\n",
       "      <th>DayNum</th>\n",
       "      <th>WTeamID</th>\n",
       "      <th>WScore</th>\n",
       "      <th>LTeamID</th>\n",
       "      <th>LScore</th>\n",
       "      <th>NumOT</th>\n",
       "      <th>WFGM</th>\n",
       "      <th>WFGA</th>\n",
       "      <th>WFGM3</th>\n",
       "      <th>WFGA3</th>\n",
       "      <th>WFTM</th>\n",
       "      <th>WFTA</th>\n",
       "      <th>WOR</th>\n",
       "      <th>WDR</th>\n",
       "      <th>WAst</th>\n",
       "      <th>WTO</th>\n",
       "      <th>WStl</th>\n",
       "      <th>WBlk</th>\n",
       "      <th>WPF</th>\n",
       "      <th>LFGM</th>\n",
       "      <th>LFGA</th>\n",
       "      <th>LFGM3</th>\n",
       "      <th>LFGA3</th>\n",
       "      <th>LFTM</th>\n",
       "      <th>LFTA</th>\n",
       "      <th>LOR</th>\n",
       "      <th>LDR</th>\n",
       "      <th>LAst</th>\n",
       "      <th>LTO</th>\n",
       "      <th>LStl</th>\n",
       "      <th>LBlk</th>\n",
       "      <th>LPF</th>\n",
       "    </tr>\n",
       "  </thead>\n",
       "  <tbody>\n",
       "    <tr>\n",
       "      <th>count</th>\n",
       "      <td>100423.000000</td>\n",
       "      <td>100423.000000</td>\n",
       "      <td>100423.000000</td>\n",
       "      <td>100423.000000</td>\n",
       "      <td>100423.000000</td>\n",
       "      <td>100423.000000</td>\n",
       "      <td>100423.000000</td>\n",
       "      <td>100423.000000</td>\n",
       "      <td>100423.000000</td>\n",
       "      <td>100423.000000</td>\n",
       "      <td>100423.000000</td>\n",
       "      <td>100423.000000</td>\n",
       "      <td>100423.000000</td>\n",
       "      <td>100423.000000</td>\n",
       "      <td>100423.000000</td>\n",
       "      <td>100423.000000</td>\n",
       "      <td>100423.000000</td>\n",
       "      <td>100423.000000</td>\n",
       "      <td>100423.000000</td>\n",
       "      <td>100423.000000</td>\n",
       "      <td>100423.000000</td>\n",
       "      <td>100423.000000</td>\n",
       "      <td>100423.000000</td>\n",
       "      <td>100423.000000</td>\n",
       "      <td>100423.000000</td>\n",
       "      <td>100423.000000</td>\n",
       "      <td>100423.000000</td>\n",
       "      <td>100423.000000</td>\n",
       "      <td>100423.000000</td>\n",
       "      <td>100423.000000</td>\n",
       "      <td>100423.000000</td>\n",
       "      <td>100423.000000</td>\n",
       "      <td>100423.000000</td>\n",
       "    </tr>\n",
       "    <tr>\n",
       "      <th>mean</th>\n",
       "      <td>2012.489350</td>\n",
       "      <td>70.513169</td>\n",
       "      <td>1287.600341</td>\n",
       "      <td>75.549396</td>\n",
       "      <td>1282.113341</td>\n",
       "      <td>63.548978</td>\n",
       "      <td>0.068311</td>\n",
       "      <td>26.228991</td>\n",
       "      <td>55.458122</td>\n",
       "      <td>7.218227</td>\n",
       "      <td>18.927069</td>\n",
       "      <td>15.873196</td>\n",
       "      <td>22.297083</td>\n",
       "      <td>10.669667</td>\n",
       "      <td>25.756829</td>\n",
       "      <td>14.712695</td>\n",
       "      <td>12.874202</td>\n",
       "      <td>6.983868</td>\n",
       "      <td>3.799120</td>\n",
       "      <td>16.880814</td>\n",
       "      <td>22.665146</td>\n",
       "      <td>56.574281</td>\n",
       "      <td>6.128994</td>\n",
       "      <td>19.849148</td>\n",
       "      <td>12.089611</td>\n",
       "      <td>17.841909</td>\n",
       "      <td>10.824004</td>\n",
       "      <td>21.714886</td>\n",
       "      <td>11.415582</td>\n",
       "      <td>14.196698</td>\n",
       "      <td>6.000040</td>\n",
       "      <td>2.864951</td>\n",
       "      <td>19.076546</td>\n",
       "    </tr>\n",
       "    <tr>\n",
       "      <th>std</th>\n",
       "      <td>5.564818</td>\n",
       "      <td>35.408043</td>\n",
       "      <td>104.947734</td>\n",
       "      <td>11.059565</td>\n",
       "      <td>104.123614</td>\n",
       "      <td>10.894962</td>\n",
       "      <td>0.305483</td>\n",
       "      <td>4.688120</td>\n",
       "      <td>7.526434</td>\n",
       "      <td>3.095434</td>\n",
       "      <td>5.927677</td>\n",
       "      <td>6.245465</td>\n",
       "      <td>8.119103</td>\n",
       "      <td>4.142087</td>\n",
       "      <td>4.910566</td>\n",
       "      <td>4.411885</td>\n",
       "      <td>4.006917</td>\n",
       "      <td>3.107018</td>\n",
       "      <td>2.441147</td>\n",
       "      <td>4.950588</td>\n",
       "      <td>4.364286</td>\n",
       "      <td>7.627384</td>\n",
       "      <td>2.795085</td>\n",
       "      <td>6.029684</td>\n",
       "      <td>5.356261</td>\n",
       "      <td>7.123095</td>\n",
       "      <td>4.221449</td>\n",
       "      <td>4.544578</td>\n",
       "      <td>3.728140</td>\n",
       "      <td>4.385896</td>\n",
       "      <td>2.753956</td>\n",
       "      <td>2.026886</td>\n",
       "      <td>5.483882</td>\n",
       "    </tr>\n",
       "    <tr>\n",
       "      <th>min</th>\n",
       "      <td>2003.000000</td>\n",
       "      <td>0.000000</td>\n",
       "      <td>1101.000000</td>\n",
       "      <td>34.000000</td>\n",
       "      <td>1101.000000</td>\n",
       "      <td>20.000000</td>\n",
       "      <td>0.000000</td>\n",
       "      <td>10.000000</td>\n",
       "      <td>27.000000</td>\n",
       "      <td>0.000000</td>\n",
       "      <td>1.000000</td>\n",
       "      <td>0.000000</td>\n",
       "      <td>0.000000</td>\n",
       "      <td>0.000000</td>\n",
       "      <td>5.000000</td>\n",
       "      <td>1.000000</td>\n",
       "      <td>1.000000</td>\n",
       "      <td>0.000000</td>\n",
       "      <td>0.000000</td>\n",
       "      <td>0.000000</td>\n",
       "      <td>6.000000</td>\n",
       "      <td>26.000000</td>\n",
       "      <td>0.000000</td>\n",
       "      <td>1.000000</td>\n",
       "      <td>0.000000</td>\n",
       "      <td>0.000000</td>\n",
       "      <td>0.000000</td>\n",
       "      <td>4.000000</td>\n",
       "      <td>0.000000</td>\n",
       "      <td>0.000000</td>\n",
       "      <td>0.000000</td>\n",
       "      <td>0.000000</td>\n",
       "      <td>0.000000</td>\n",
       "    </tr>\n",
       "    <tr>\n",
       "      <th>25%</th>\n",
       "      <td>2008.000000</td>\n",
       "      <td>40.000000</td>\n",
       "      <td>1198.000000</td>\n",
       "      <td>68.000000</td>\n",
       "      <td>1191.000000</td>\n",
       "      <td>56.000000</td>\n",
       "      <td>0.000000</td>\n",
       "      <td>23.000000</td>\n",
       "      <td>50.000000</td>\n",
       "      <td>5.000000</td>\n",
       "      <td>15.000000</td>\n",
       "      <td>11.000000</td>\n",
       "      <td>17.000000</td>\n",
       "      <td>8.000000</td>\n",
       "      <td>22.000000</td>\n",
       "      <td>12.000000</td>\n",
       "      <td>10.000000</td>\n",
       "      <td>5.000000</td>\n",
       "      <td>2.000000</td>\n",
       "      <td>14.000000</td>\n",
       "      <td>20.000000</td>\n",
       "      <td>51.000000</td>\n",
       "      <td>4.000000</td>\n",
       "      <td>16.000000</td>\n",
       "      <td>8.000000</td>\n",
       "      <td>13.000000</td>\n",
       "      <td>8.000000</td>\n",
       "      <td>19.000000</td>\n",
       "      <td>9.000000</td>\n",
       "      <td>11.000000</td>\n",
       "      <td>4.000000</td>\n",
       "      <td>1.000000</td>\n",
       "      <td>16.000000</td>\n",
       "    </tr>\n",
       "    <tr>\n",
       "      <th>50%</th>\n",
       "      <td>2013.000000</td>\n",
       "      <td>73.000000</td>\n",
       "      <td>1286.000000</td>\n",
       "      <td>75.000000</td>\n",
       "      <td>1281.000000</td>\n",
       "      <td>63.000000</td>\n",
       "      <td>0.000000</td>\n",
       "      <td>26.000000</td>\n",
       "      <td>55.000000</td>\n",
       "      <td>7.000000</td>\n",
       "      <td>19.000000</td>\n",
       "      <td>15.000000</td>\n",
       "      <td>22.000000</td>\n",
       "      <td>10.000000</td>\n",
       "      <td>26.000000</td>\n",
       "      <td>14.000000</td>\n",
       "      <td>13.000000</td>\n",
       "      <td>7.000000</td>\n",
       "      <td>3.000000</td>\n",
       "      <td>17.000000</td>\n",
       "      <td>23.000000</td>\n",
       "      <td>56.000000</td>\n",
       "      <td>6.000000</td>\n",
       "      <td>19.000000</td>\n",
       "      <td>12.000000</td>\n",
       "      <td>17.000000</td>\n",
       "      <td>10.000000</td>\n",
       "      <td>22.000000</td>\n",
       "      <td>11.000000</td>\n",
       "      <td>14.000000</td>\n",
       "      <td>6.000000</td>\n",
       "      <td>3.000000</td>\n",
       "      <td>19.000000</td>\n",
       "    </tr>\n",
       "    <tr>\n",
       "      <th>75%</th>\n",
       "      <td>2017.000000</td>\n",
       "      <td>101.000000</td>\n",
       "      <td>1380.000000</td>\n",
       "      <td>83.000000</td>\n",
       "      <td>1373.000000</td>\n",
       "      <td>71.000000</td>\n",
       "      <td>0.000000</td>\n",
       "      <td>29.000000</td>\n",
       "      <td>60.000000</td>\n",
       "      <td>9.000000</td>\n",
       "      <td>23.000000</td>\n",
       "      <td>20.000000</td>\n",
       "      <td>28.000000</td>\n",
       "      <td>13.000000</td>\n",
       "      <td>29.000000</td>\n",
       "      <td>17.000000</td>\n",
       "      <td>15.000000</td>\n",
       "      <td>9.000000</td>\n",
       "      <td>5.000000</td>\n",
       "      <td>20.000000</td>\n",
       "      <td>25.000000</td>\n",
       "      <td>61.000000</td>\n",
       "      <td>8.000000</td>\n",
       "      <td>24.000000</td>\n",
       "      <td>15.000000</td>\n",
       "      <td>22.000000</td>\n",
       "      <td>13.000000</td>\n",
       "      <td>25.000000</td>\n",
       "      <td>14.000000</td>\n",
       "      <td>17.000000</td>\n",
       "      <td>8.000000</td>\n",
       "      <td>4.000000</td>\n",
       "      <td>22.000000</td>\n",
       "    </tr>\n",
       "    <tr>\n",
       "      <th>max</th>\n",
       "      <td>2022.000000</td>\n",
       "      <td>132.000000</td>\n",
       "      <td>1472.000000</td>\n",
       "      <td>144.000000</td>\n",
       "      <td>1472.000000</td>\n",
       "      <td>140.000000</td>\n",
       "      <td>6.000000</td>\n",
       "      <td>57.000000</td>\n",
       "      <td>103.000000</td>\n",
       "      <td>26.000000</td>\n",
       "      <td>56.000000</td>\n",
       "      <td>48.000000</td>\n",
       "      <td>67.000000</td>\n",
       "      <td>38.000000</td>\n",
       "      <td>54.000000</td>\n",
       "      <td>41.000000</td>\n",
       "      <td>33.000000</td>\n",
       "      <td>26.000000</td>\n",
       "      <td>21.000000</td>\n",
       "      <td>41.000000</td>\n",
       "      <td>47.000000</td>\n",
       "      <td>106.000000</td>\n",
       "      <td>22.000000</td>\n",
       "      <td>59.000000</td>\n",
       "      <td>42.000000</td>\n",
       "      <td>61.000000</td>\n",
       "      <td>36.000000</td>\n",
       "      <td>49.000000</td>\n",
       "      <td>31.000000</td>\n",
       "      <td>41.000000</td>\n",
       "      <td>22.000000</td>\n",
       "      <td>18.000000</td>\n",
       "      <td>45.000000</td>\n",
       "    </tr>\n",
       "  </tbody>\n",
       "</table>\n",
       "</div>"
      ],
      "text/plain": [
       "              Season         DayNum        WTeamID         WScore  \\\n",
       "count  100423.000000  100423.000000  100423.000000  100423.000000   \n",
       "mean     2012.489350      70.513169    1287.600341      75.549396   \n",
       "std         5.564818      35.408043     104.947734      11.059565   \n",
       "min      2003.000000       0.000000    1101.000000      34.000000   \n",
       "25%      2008.000000      40.000000    1198.000000      68.000000   \n",
       "50%      2013.000000      73.000000    1286.000000      75.000000   \n",
       "75%      2017.000000     101.000000    1380.000000      83.000000   \n",
       "max      2022.000000     132.000000    1472.000000     144.000000   \n",
       "\n",
       "             LTeamID         LScore          NumOT           WFGM  \\\n",
       "count  100423.000000  100423.000000  100423.000000  100423.000000   \n",
       "mean     1282.113341      63.548978       0.068311      26.228991   \n",
       "std       104.123614      10.894962       0.305483       4.688120   \n",
       "min      1101.000000      20.000000       0.000000      10.000000   \n",
       "25%      1191.000000      56.000000       0.000000      23.000000   \n",
       "50%      1281.000000      63.000000       0.000000      26.000000   \n",
       "75%      1373.000000      71.000000       0.000000      29.000000   \n",
       "max      1472.000000     140.000000       6.000000      57.000000   \n",
       "\n",
       "                WFGA          WFGM3          WFGA3           WFTM  \\\n",
       "count  100423.000000  100423.000000  100423.000000  100423.000000   \n",
       "mean       55.458122       7.218227      18.927069      15.873196   \n",
       "std         7.526434       3.095434       5.927677       6.245465   \n",
       "min        27.000000       0.000000       1.000000       0.000000   \n",
       "25%        50.000000       5.000000      15.000000      11.000000   \n",
       "50%        55.000000       7.000000      19.000000      15.000000   \n",
       "75%        60.000000       9.000000      23.000000      20.000000   \n",
       "max       103.000000      26.000000      56.000000      48.000000   \n",
       "\n",
       "                WFTA            WOR            WDR           WAst  \\\n",
       "count  100423.000000  100423.000000  100423.000000  100423.000000   \n",
       "mean       22.297083      10.669667      25.756829      14.712695   \n",
       "std         8.119103       4.142087       4.910566       4.411885   \n",
       "min         0.000000       0.000000       5.000000       1.000000   \n",
       "25%        17.000000       8.000000      22.000000      12.000000   \n",
       "50%        22.000000      10.000000      26.000000      14.000000   \n",
       "75%        28.000000      13.000000      29.000000      17.000000   \n",
       "max        67.000000      38.000000      54.000000      41.000000   \n",
       "\n",
       "                 WTO           WStl           WBlk            WPF  \\\n",
       "count  100423.000000  100423.000000  100423.000000  100423.000000   \n",
       "mean       12.874202       6.983868       3.799120      16.880814   \n",
       "std         4.006917       3.107018       2.441147       4.950588   \n",
       "min         1.000000       0.000000       0.000000       0.000000   \n",
       "25%        10.000000       5.000000       2.000000      14.000000   \n",
       "50%        13.000000       7.000000       3.000000      17.000000   \n",
       "75%        15.000000       9.000000       5.000000      20.000000   \n",
       "max        33.000000      26.000000      21.000000      41.000000   \n",
       "\n",
       "                LFGM           LFGA          LFGM3          LFGA3  \\\n",
       "count  100423.000000  100423.000000  100423.000000  100423.000000   \n",
       "mean       22.665146      56.574281       6.128994      19.849148   \n",
       "std         4.364286       7.627384       2.795085       6.029684   \n",
       "min         6.000000      26.000000       0.000000       1.000000   \n",
       "25%        20.000000      51.000000       4.000000      16.000000   \n",
       "50%        23.000000      56.000000       6.000000      19.000000   \n",
       "75%        25.000000      61.000000       8.000000      24.000000   \n",
       "max        47.000000     106.000000      22.000000      59.000000   \n",
       "\n",
       "                LFTM           LFTA            LOR            LDR  \\\n",
       "count  100423.000000  100423.000000  100423.000000  100423.000000   \n",
       "mean       12.089611      17.841909      10.824004      21.714886   \n",
       "std         5.356261       7.123095       4.221449       4.544578   \n",
       "min         0.000000       0.000000       0.000000       4.000000   \n",
       "25%         8.000000      13.000000       8.000000      19.000000   \n",
       "50%        12.000000      17.000000      10.000000      22.000000   \n",
       "75%        15.000000      22.000000      13.000000      25.000000   \n",
       "max        42.000000      61.000000      36.000000      49.000000   \n",
       "\n",
       "                LAst            LTO           LStl           LBlk  \\\n",
       "count  100423.000000  100423.000000  100423.000000  100423.000000   \n",
       "mean       11.415582      14.196698       6.000040       2.864951   \n",
       "std         3.728140       4.385896       2.753956       2.026886   \n",
       "min         0.000000       0.000000       0.000000       0.000000   \n",
       "25%         9.000000      11.000000       4.000000       1.000000   \n",
       "50%        11.000000      14.000000       6.000000       3.000000   \n",
       "75%        14.000000      17.000000       8.000000       4.000000   \n",
       "max        31.000000      41.000000      22.000000      18.000000   \n",
       "\n",
       "                 LPF  \n",
       "count  100423.000000  \n",
       "mean       19.076546  \n",
       "std         5.483882  \n",
       "min         0.000000  \n",
       "25%        16.000000  \n",
       "50%        19.000000  \n",
       "75%        22.000000  \n",
       "max        45.000000  "
      ]
     },
     "execution_count": 5,
     "metadata": {},
     "output_type": "execute_result"
    }
   ],
   "source": [
    "# data stats\n",
    "data.describe()"
   ]
  },
  {
   "cell_type": "code",
   "execution_count": 6,
   "id": "500045ec",
   "metadata": {},
   "outputs": [
    {
     "data": {
      "text/plain": [
       "<matplotlib.lines.Line2D at 0x7fccc1cf1430>"
      ]
     },
     "execution_count": 6,
     "metadata": {},
     "output_type": "execute_result"
    },
    {
     "data": {
      "image/png": "[encoded data removed]",
      "text/plain": [
       "<Figure size 432x288 with 1 Axes>"
      ]
     },
     "metadata": {
      "needs_background": "light"
     },
     "output_type": "display_data"
    }
   ],
   "source": [
    "# histogram of point differentials\n",
    "sns.histplot(data['WScore']-data['LScore'], bins=20)\n",
    "plt.axvline(x=(data['WScore']-data['LScore']).mean(),\n",
    "            color='red', ls='--')"
   ]
  },
  {
   "cell_type": "code",
   "execution_count": 7,
   "id": "df28ce68",
   "metadata": {},
   "outputs": [
    {
     "data": {
      "text/plain": [
       "<matplotlib.lines.Line2D at 0x7fccc1c1d850>"
      ]
     },
     "execution_count": 7,
     "metadata": {},
     "output_type": "execute_result"
    },
    {
     "data": {
      "image/png": "[encoded data removed]",
      "text/plain": [
       "<Figure size 432x288 with 1 Axes>"
      ]
     },
     "metadata": {
      "needs_background": "light"
     },
     "output_type": "display_data"
    }
   ],
   "source": [
    "# histogram of 3 point make differentials\n",
    "sns.histplot(data['WFGM3']-data['LFGM3'], bins=20)\n",
    "plt.axvline(x=(data['WFGM3']-data['LFGM3']).mean(),\n",
    "            color='red', ls='--')"
   ]
  },
  {
   "cell_type": "code",
   "execution_count": 8,
   "id": "e9a34351",
   "metadata": {},
   "outputs": [
    {
     "data": {
      "text/plain": [
       "<matplotlib.lines.Line2D at 0x7fccc1d54f10>"
      ]
     },
     "execution_count": 8,
     "metadata": {},
     "output_type": "execute_result"
    },
    {
     "data": {
      "image/png": "[encoded data removed]",
      "text/plain": [
       "<Figure size 432x288 with 1 Axes>"
      ]
     },
     "metadata": {
      "needs_background": "light"
     },
     "output_type": "display_data"
    }
   ],
   "source": [
    "# histogram of free throw make differentials\n",
    "sns.histplot(data['WFTM']-data['LFTM'], bins=20)\n",
    "plt.axvline(x=(data['WFTM']-data['LFTM']).mean(),\n",
    "            color='red', ls='--')"
   ]
  },
  {
   "cell_type": "code",
   "execution_count": 9,
   "id": "d36f5f6a",
   "metadata": {},
   "outputs": [
    {
     "data": {
      "text/plain": [
       "<matplotlib.lines.Line2D at 0x7fccc1b39a90>"
      ]
     },
     "execution_count": 9,
     "metadata": {},
     "output_type": "execute_result"
    },
    {
     "data": {
      "image/png": "[encoded data removed]",
      "text/plain": [
       "<Figure size 432x288 with 1 Axes>"
      ]
     },
     "metadata": {
      "needs_background": "light"
     },
     "output_type": "display_data"
    }
   ],
   "source": [
    "# histogram of offensive rating differentials\n",
    "sns.histplot(data['WOR']-data['LOR'], bins=20)\n",
    "plt.axvline(x=(data['WOR']-data['LOR']).mean(),\n",
    "            color='red', ls='--')"
   ]
  },
  {
   "cell_type": "code",
   "execution_count": 10,
   "id": "2a34d61e",
   "metadata": {},
   "outputs": [
    {
     "data": {
      "text/plain": [
       "<matplotlib.lines.Line2D at 0x7fccc1bccdf0>"
      ]
     },
     "execution_count": 10,
     "metadata": {},
     "output_type": "execute_result"
    },
    {
     "data": {
      "image/png": "[encoded data removed]",
      "text/plain": [
       "<Figure size 432x288 with 1 Axes>"
      ]
     },
     "metadata": {
      "needs_background": "light"
     },
     "output_type": "display_data"
    }
   ],
   "source": [
    "# histogram of defensive rating differentials\n",
    "sns.histplot(data['WDR']-data['LDR'], bins=20)\n",
    "plt.axvline(x=(data['WDR']-data['LDR']).mean(),\n",
    "            color='red', ls='--')"
   ]
  },
  {
   "cell_type": "code",
   "execution_count": 11,
   "id": "4c8bbca0",
   "metadata": {},
   "outputs": [
    {
     "data": {
      "text/plain": [
       "<matplotlib.lines.Line2D at 0x7fccc1a197f0>"
      ]
     },
     "execution_count": 11,
     "metadata": {},
     "output_type": "execute_result"
    },
    {
     "data": {
      "image/png": "[encoded data removed]",
      "text/plain": [
       "<Figure size 432x288 with 1 Axes>"
      ]
     },
     "metadata": {
      "needs_background": "light"
     },
     "output_type": "display_data"
    }
   ],
   "source": [
    "# histogram of personal foul differentials\n",
    "sns.histplot(data['WPF']-data['LPF'], bins=20)\n",
    "plt.axvline(x=(data['WPF']-data['LPF']).mean(),\n",
    "            color='red', ls='--')"
   ]
  },
  {
   "cell_type": "code",
   "execution_count": 12,
   "id": "3320c513",
   "metadata": {},
   "outputs": [
    {
     "data": {
      "text/plain": [
       "<matplotlib.lines.Line2D at 0x7fccc1946fd0>"
      ]
     },
     "execution_count": 12,
     "metadata": {},
     "output_type": "execute_result"
    },
    {
     "data": {
      "image/png": "[encoded data removed]",
      "text/plain": [
       "<Figure size 432x288 with 1 Axes>"
      ]
     },
     "metadata": {
      "needs_background": "light"
     },
     "output_type": "display_data"
    }
   ],
   "source": [
    "# histogram of turnover differentials\n",
    "sns.histplot(data['WTO']-data['LTO'], bins=20)\n",
    "plt.axvline(x=(data['WTO']-data['LTO']).mean(),\n",
    "            color='red', ls='--')"
   ]
  },
  {
   "cell_type": "code",
   "execution_count": 13,
   "id": "aa160e1a",
   "metadata": {},
   "outputs": [
    {
     "data": {
      "text/plain": [
       "<matplotlib.lines.Line2D at 0x7fccc19059a0>"
      ]
     },
     "execution_count": 13,
     "metadata": {},
     "output_type": "execute_result"
    },
    {
     "data": {
      "image/png": "[encoded data removed]",
      "text/plain": [
       "<Figure size 432x288 with 1 Axes>"
      ]
     },
     "metadata": {
      "needs_background": "light"
     },
     "output_type": "display_data"
    }
   ],
   "source": [
    "# histogram of assist differentials\n",
    "sns.histplot(data['WAst']-data['LAst'], bins=20)\n",
    "plt.axvline(x=(data['WAst']-data['LAst']).mean(),\n",
    "            color='red', ls='--')"
   ]
  },
  {
   "cell_type": "code",
   "execution_count": 14,
   "id": "233571a4",
   "metadata": {},
   "outputs": [
    {
     "data": {
      "text/plain": [
       "<matplotlib.lines.Line2D at 0x7fccc1b3fb80>"
      ]
     },
     "execution_count": 14,
     "metadata": {},
     "output_type": "execute_result"
    },
    {
     "data": {
      "image/png": "[encoded data removed]",
      "text/plain": [
       "<Figure size 432x288 with 1 Axes>"
      ]
     },
     "metadata": {
      "needs_background": "light"
     },
     "output_type": "display_data"
    }
   ],
   "source": [
    "# histogram of steal differentials\n",
    "sns.histplot(data['WStl']-data['LStl'], bins=20)\n",
    "plt.axvline(x=(data['WStl']-data['LStl']).mean(),\n",
    "            color='red', ls='--')"
   ]
  },
  {
   "cell_type": "code",
   "execution_count": null,
   "id": "924a9a0f",
   "metadata": {},
   "outputs": [],
   "source": []
  }
 ],
 "metadata": {
  "kernelspec": {
   "display_name": "Python 3 (clean)",
   "language": "python",
   "name": "python3_clean"
  },
  "language_info": {
   "codemirror_mode": {
    "name": "ipython",
    "version": 3
   },
   "file_extension": ".py",
   "mimetype": "text/x-python",
   "name": "python",
   "nbconvert_exporter": "python",
   "pygments_lexer": "ipython3",
   "version": "3.9.5"
  }
 },
 "nbformat": 4,
 "nbformat_minor": 5
}
