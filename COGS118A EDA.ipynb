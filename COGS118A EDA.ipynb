{
 "cells": [
  {
   "cell_type": "code",
   "execution_count": 1,
   "id": "6178415b",
   "metadata": {},
   "outputs": [],
   "source": [
    "import numpy as np\n",
    "import pandas as pd\n",
    "import seaborn as sns\n",
    "import matplotlib.pyplot as plt"
   ]
  },
  {
   "cell_type": "code",
   "execution_count": 2,
   "id": "abc78693",
   "metadata": {},
   "outputs": [],
   "source": [
    "# https://www.kaggle.com/c/mens-march-mania-2022/data\n",
    "data = pd.read_csv('MNCAATourneyDetailedResults.csv')"
   ]
  },
  {
   "cell_type": "code",
   "execution_count": 3,
   "id": "2cd9d88a",
   "metadata": {},
   "outputs": [
    {
     "data": {
      "text/html": [
       "<div>\n",
       "<style scoped>\n",
       "    .dataframe tbody tr th:only-of-type {\n",
       "        vertical-align: middle;\n",
       "    }\n",
       "\n",
       "    .dataframe tbody tr th {\n",
       "        vertical-align: top;\n",
       "    }\n",
       "\n",
       "    .dataframe thead th {\n",
       "        text-align: right;\n",
       "    }\n",
       "</style>\n",
       "<table border=\"1\" class=\"dataframe\">\n",
       "  <thead>\n",
       "    <tr style=\"text-align: right;\">\n",
       "      <th></th>\n",
       "      <th>Season</th>\n",
       "      <th>DayNum</th>\n",
       "      <th>WTeamID</th>\n",
       "      <th>WScore</th>\n",
       "      <th>LTeamID</th>\n",
       "      <th>LScore</th>\n",
       "      <th>WLoc</th>\n",
       "      <th>NumOT</th>\n",
       "      <th>WFGM</th>\n",
       "      <th>WFGA</th>\n",
       "      <th>WFGM3</th>\n",
       "      <th>WFGA3</th>\n",
       "      <th>WFTM</th>\n",
       "      <th>WFTA</th>\n",
       "      <th>WOR</th>\n",
       "      <th>WDR</th>\n",
       "      <th>WAst</th>\n",
       "      <th>WTO</th>\n",
       "      <th>WStl</th>\n",
       "      <th>WBlk</th>\n",
       "      <th>WPF</th>\n",
       "      <th>LFGM</th>\n",
       "      <th>LFGA</th>\n",
       "      <th>LFGM3</th>\n",
       "      <th>LFGA3</th>\n",
       "      <th>LFTM</th>\n",
       "      <th>LFTA</th>\n",
       "      <th>LOR</th>\n",
       "      <th>LDR</th>\n",
       "      <th>LAst</th>\n",
       "      <th>LTO</th>\n",
       "      <th>LStl</th>\n",
       "      <th>LBlk</th>\n",
       "      <th>LPF</th>\n",
       "    </tr>\n",
       "  </thead>\n",
       "  <tbody>\n",
       "    <tr>\n",
       "      <th>0</th>\n",
       "      <td>2003</td>\n",
       "      <td>134</td>\n",
       "      <td>1421</td>\n",
       "      <td>92</td>\n",
       "      <td>1411</td>\n",
       "      <td>84</td>\n",
       "      <td>N</td>\n",
       "      <td>1</td>\n",
       "      <td>32</td>\n",
       "      <td>69</td>\n",
       "      <td>11</td>\n",
       "      <td>29</td>\n",
       "      <td>17</td>\n",
       "      <td>26</td>\n",
       "      <td>14</td>\n",
       "      <td>30</td>\n",
       "      <td>17</td>\n",
       "      <td>12</td>\n",
       "      <td>5</td>\n",
       "      <td>3</td>\n",
       "      <td>22</td>\n",
       "      <td>29</td>\n",
       "      <td>67</td>\n",
       "      <td>12</td>\n",
       "      <td>31</td>\n",
       "      <td>14</td>\n",
       "      <td>31</td>\n",
       "      <td>17</td>\n",
       "      <td>28</td>\n",
       "      <td>16</td>\n",
       "      <td>15</td>\n",
       "      <td>5</td>\n",
       "      <td>0</td>\n",
       "      <td>22</td>\n",
       "    </tr>\n",
       "    <tr>\n",
       "      <th>1</th>\n",
       "      <td>2003</td>\n",
       "      <td>136</td>\n",
       "      <td>1112</td>\n",
       "      <td>80</td>\n",
       "      <td>1436</td>\n",
       "      <td>51</td>\n",
       "      <td>N</td>\n",
       "      <td>0</td>\n",
       "      <td>31</td>\n",
       "      <td>66</td>\n",
       "      <td>7</td>\n",
       "      <td>23</td>\n",
       "      <td>11</td>\n",
       "      <td>14</td>\n",
       "      <td>11</td>\n",
       "      <td>36</td>\n",
       "      <td>22</td>\n",
       "      <td>16</td>\n",
       "      <td>10</td>\n",
       "      <td>7</td>\n",
       "      <td>8</td>\n",
       "      <td>20</td>\n",
       "      <td>64</td>\n",
       "      <td>4</td>\n",
       "      <td>16</td>\n",
       "      <td>7</td>\n",
       "      <td>7</td>\n",
       "      <td>8</td>\n",
       "      <td>26</td>\n",
       "      <td>12</td>\n",
       "      <td>17</td>\n",
       "      <td>10</td>\n",
       "      <td>3</td>\n",
       "      <td>15</td>\n",
       "    </tr>\n",
       "    <tr>\n",
       "      <th>2</th>\n",
       "      <td>2003</td>\n",
       "      <td>136</td>\n",
       "      <td>1113</td>\n",
       "      <td>84</td>\n",
       "      <td>1272</td>\n",
       "      <td>71</td>\n",
       "      <td>N</td>\n",
       "      <td>0</td>\n",
       "      <td>31</td>\n",
       "      <td>59</td>\n",
       "      <td>6</td>\n",
       "      <td>14</td>\n",
       "      <td>16</td>\n",
       "      <td>22</td>\n",
       "      <td>10</td>\n",
       "      <td>27</td>\n",
       "      <td>18</td>\n",
       "      <td>9</td>\n",
       "      <td>7</td>\n",
       "      <td>4</td>\n",
       "      <td>19</td>\n",
       "      <td>25</td>\n",
       "      <td>69</td>\n",
       "      <td>7</td>\n",
       "      <td>28</td>\n",
       "      <td>14</td>\n",
       "      <td>21</td>\n",
       "      <td>20</td>\n",
       "      <td>22</td>\n",
       "      <td>11</td>\n",
       "      <td>12</td>\n",
       "      <td>2</td>\n",
       "      <td>5</td>\n",
       "      <td>18</td>\n",
       "    </tr>\n",
       "    <tr>\n",
       "      <th>3</th>\n",
       "      <td>2003</td>\n",
       "      <td>136</td>\n",
       "      <td>1141</td>\n",
       "      <td>79</td>\n",
       "      <td>1166</td>\n",
       "      <td>73</td>\n",
       "      <td>N</td>\n",
       "      <td>0</td>\n",
       "      <td>29</td>\n",
       "      <td>53</td>\n",
       "      <td>3</td>\n",
       "      <td>7</td>\n",
       "      <td>18</td>\n",
       "      <td>25</td>\n",
       "      <td>11</td>\n",
       "      <td>20</td>\n",
       "      <td>15</td>\n",
       "      <td>18</td>\n",
       "      <td>13</td>\n",
       "      <td>1</td>\n",
       "      <td>19</td>\n",
       "      <td>27</td>\n",
       "      <td>60</td>\n",
       "      <td>7</td>\n",
       "      <td>17</td>\n",
       "      <td>12</td>\n",
       "      <td>17</td>\n",
       "      <td>14</td>\n",
       "      <td>17</td>\n",
       "      <td>20</td>\n",
       "      <td>21</td>\n",
       "      <td>6</td>\n",
       "      <td>6</td>\n",
       "      <td>21</td>\n",
       "    </tr>\n",
       "    <tr>\n",
       "      <th>4</th>\n",
       "      <td>2003</td>\n",
       "      <td>136</td>\n",
       "      <td>1143</td>\n",
       "      <td>76</td>\n",
       "      <td>1301</td>\n",
       "      <td>74</td>\n",
       "      <td>N</td>\n",
       "      <td>1</td>\n",
       "      <td>27</td>\n",
       "      <td>64</td>\n",
       "      <td>7</td>\n",
       "      <td>20</td>\n",
       "      <td>15</td>\n",
       "      <td>23</td>\n",
       "      <td>18</td>\n",
       "      <td>20</td>\n",
       "      <td>17</td>\n",
       "      <td>13</td>\n",
       "      <td>8</td>\n",
       "      <td>2</td>\n",
       "      <td>14</td>\n",
       "      <td>25</td>\n",
       "      <td>56</td>\n",
       "      <td>9</td>\n",
       "      <td>21</td>\n",
       "      <td>15</td>\n",
       "      <td>20</td>\n",
       "      <td>10</td>\n",
       "      <td>26</td>\n",
       "      <td>16</td>\n",
       "      <td>14</td>\n",
       "      <td>5</td>\n",
       "      <td>8</td>\n",
       "      <td>19</td>\n",
       "    </tr>\n",
       "  </tbody>\n",
       "</table>\n",
       "</div>"
      ],
      "text/plain": [
       "   Season  DayNum  WTeamID  WScore  LTeamID  LScore WLoc  NumOT  WFGM  WFGA  \\\n",
       "0    2003     134     1421      92     1411      84    N      1    32    69   \n",
       "1    2003     136     1112      80     1436      51    N      0    31    66   \n",
       "2    2003     136     1113      84     1272      71    N      0    31    59   \n",
       "3    2003     136     1141      79     1166      73    N      0    29    53   \n",
       "4    2003     136     1143      76     1301      74    N      1    27    64   \n",
       "\n",
       "   WFGM3  WFGA3  WFTM  WFTA  WOR  WDR  WAst  WTO  WStl  WBlk  WPF  LFGM  LFGA  \\\n",
       "0     11     29    17    26   14   30    17   12     5     3   22    29    67   \n",
       "1      7     23    11    14   11   36    22   16    10     7    8    20    64   \n",
       "2      6     14    16    22   10   27    18    9     7     4   19    25    69   \n",
       "3      3      7    18    25   11   20    15   18    13     1   19    27    60   \n",
       "4      7     20    15    23   18   20    17   13     8     2   14    25    56   \n",
       "\n",
       "   LFGM3  LFGA3  LFTM  LFTA  LOR  LDR  LAst  LTO  LStl  LBlk  LPF  \n",
       "0     12     31    14    31   17   28    16   15     5     0   22  \n",
       "1      4     16     7     7    8   26    12   17    10     3   15  \n",
       "2      7     28    14    21   20   22    11   12     2     5   18  \n",
       "3      7     17    12    17   14   17    20   21     6     6   21  \n",
       "4      9     21    15    20   10   26    16   14     5     8   19  "
      ]
     },
     "execution_count": 3,
     "metadata": {},
     "output_type": "execute_result"
    }
   ],
   "source": [
    "# want to see all columns\n",
    "pd.set_option('display.max_columns', None)\n",
    "data.head()"
   ]
  },
  {
   "cell_type": "code",
   "execution_count": 4,
   "id": "68a6355d",
   "metadata": {},
   "outputs": [
    {
     "data": {
      "text/plain": [
       "Season     0\n",
       "DayNum     0\n",
       "WTeamID    0\n",
       "WScore     0\n",
       "LTeamID    0\n",
       "LScore     0\n",
       "WLoc       0\n",
       "NumOT      0\n",
       "WFGM       0\n",
       "WFGA       0\n",
       "WFGM3      0\n",
       "WFGA3      0\n",
       "WFTM       0\n",
       "WFTA       0\n",
       "WOR        0\n",
       "WDR        0\n",
       "WAst       0\n",
       "WTO        0\n",
       "WStl       0\n",
       "WBlk       0\n",
       "WPF        0\n",
       "LFGM       0\n",
       "LFGA       0\n",
       "LFGM3      0\n",
       "LFGA3      0\n",
       "LFTM       0\n",
       "LFTA       0\n",
       "LOR        0\n",
       "LDR        0\n",
       "LAst       0\n",
       "LTO        0\n",
       "LStl       0\n",
       "LBlk       0\n",
       "LPF        0\n",
       "dtype: int64"
      ]
     },
     "execution_count": 4,
     "metadata": {},
     "output_type": "execute_result"
    }
   ],
   "source": [
    "# checking for missing values\n",
    "data.isna().sum()\n",
    "# no nan values here!"
   ]
  },
  {
   "cell_type": "code",
   "execution_count": 5,
   "id": "ecd63e90",
   "metadata": {},
   "outputs": [
    {
     "data": {
      "text/html": [
       "<div>\n",
       "<style scoped>\n",
       "    .dataframe tbody tr th:only-of-type {\n",
       "        vertical-align: middle;\n",
       "    }\n",
       "\n",
       "    .dataframe tbody tr th {\n",
       "        vertical-align: top;\n",
       "    }\n",
       "\n",
       "    .dataframe thead th {\n",
       "        text-align: right;\n",
       "    }\n",
       "</style>\n",
       "<table border=\"1\" class=\"dataframe\">\n",
       "  <thead>\n",
       "    <tr style=\"text-align: right;\">\n",
       "      <th></th>\n",
       "      <th>Season</th>\n",
       "      <th>DayNum</th>\n",
       "      <th>WTeamID</th>\n",
       "      <th>WScore</th>\n",
       "      <th>LTeamID</th>\n",
       "      <th>LScore</th>\n",
       "      <th>NumOT</th>\n",
       "      <th>WFGM</th>\n",
       "      <th>WFGA</th>\n",
       "      <th>WFGM3</th>\n",
       "      <th>WFGA3</th>\n",
       "      <th>WFTM</th>\n",
       "      <th>WFTA</th>\n",
       "      <th>WOR</th>\n",
       "      <th>WDR</th>\n",
       "      <th>WAst</th>\n",
       "      <th>WTO</th>\n",
       "      <th>WStl</th>\n",
       "      <th>WBlk</th>\n",
       "      <th>WPF</th>\n",
       "      <th>LFGM</th>\n",
       "      <th>LFGA</th>\n",
       "      <th>LFGM3</th>\n",
       "      <th>LFGA3</th>\n",
       "      <th>LFTM</th>\n",
       "      <th>LFTA</th>\n",
       "      <th>LOR</th>\n",
       "      <th>LDR</th>\n",
       "      <th>LAst</th>\n",
       "      <th>LTO</th>\n",
       "      <th>LStl</th>\n",
       "      <th>LBlk</th>\n",
       "      <th>LPF</th>\n",
       "    </tr>\n",
       "  </thead>\n",
       "  <tbody>\n",
       "    <tr>\n",
       "      <th>count</th>\n",
       "      <td>1181.000000</td>\n",
       "      <td>1181.000000</td>\n",
       "      <td>1181.000000</td>\n",
       "      <td>1181.000000</td>\n",
       "      <td>1181.000000</td>\n",
       "      <td>1181.000000</td>\n",
       "      <td>1181.000000</td>\n",
       "      <td>1181.000000</td>\n",
       "      <td>1181.000000</td>\n",
       "      <td>1181.000000</td>\n",
       "      <td>1181.000000</td>\n",
       "      <td>1181.000000</td>\n",
       "      <td>1181.000000</td>\n",
       "      <td>1181.000000</td>\n",
       "      <td>1181.000000</td>\n",
       "      <td>1181.000000</td>\n",
       "      <td>1181.000000</td>\n",
       "      <td>1181.000000</td>\n",
       "      <td>1181.000000</td>\n",
       "      <td>1181.000000</td>\n",
       "      <td>1181.000000</td>\n",
       "      <td>1181.000000</td>\n",
       "      <td>1181.000000</td>\n",
       "      <td>1181.000000</td>\n",
       "      <td>1181.000000</td>\n",
       "      <td>1181.000000</td>\n",
       "      <td>1181.000000</td>\n",
       "      <td>1181.000000</td>\n",
       "      <td>1181.000000</td>\n",
       "      <td>1181.000000</td>\n",
       "      <td>1181.000000</td>\n",
       "      <td>1181.000000</td>\n",
       "      <td>1181.000000</td>\n",
       "    </tr>\n",
       "    <tr>\n",
       "      <th>mean</th>\n",
       "      <td>2011.650296</td>\n",
       "      <td>139.109229</td>\n",
       "      <td>1293.542760</td>\n",
       "      <td>75.234547</td>\n",
       "      <td>1294.587638</td>\n",
       "      <td>63.707028</td>\n",
       "      <td>0.071126</td>\n",
       "      <td>26.344623</td>\n",
       "      <td>55.462320</td>\n",
       "      <td>7.022862</td>\n",
       "      <td>18.298899</td>\n",
       "      <td>15.522439</td>\n",
       "      <td>21.328535</td>\n",
       "      <td>10.523285</td>\n",
       "      <td>25.861135</td>\n",
       "      <td>14.259949</td>\n",
       "      <td>11.447925</td>\n",
       "      <td>6.392887</td>\n",
       "      <td>3.944962</td>\n",
       "      <td>16.324301</td>\n",
       "      <td>22.911939</td>\n",
       "      <td>57.712108</td>\n",
       "      <td>6.254022</td>\n",
       "      <td>20.502964</td>\n",
       "      <td>11.629128</td>\n",
       "      <td>16.617273</td>\n",
       "      <td>10.970364</td>\n",
       "      <td>21.368332</td>\n",
       "      <td>11.409822</td>\n",
       "      <td>12.171041</td>\n",
       "      <td>5.707875</td>\n",
       "      <td>2.939881</td>\n",
       "      <td>18.853514</td>\n",
       "    </tr>\n",
       "    <tr>\n",
       "      <th>std</th>\n",
       "      <td>5.274224</td>\n",
       "      <td>4.234734</td>\n",
       "      <td>102.884842</td>\n",
       "      <td>10.724755</td>\n",
       "      <td>105.945614</td>\n",
       "      <td>10.305693</td>\n",
       "      <td>0.294045</td>\n",
       "      <td>4.751158</td>\n",
       "      <td>7.225518</td>\n",
       "      <td>2.965677</td>\n",
       "      <td>5.679989</td>\n",
       "      <td>6.059217</td>\n",
       "      <td>7.681727</td>\n",
       "      <td>3.978822</td>\n",
       "      <td>5.002307</td>\n",
       "      <td>4.341092</td>\n",
       "      <td>3.812563</td>\n",
       "      <td>2.977842</td>\n",
       "      <td>2.526038</td>\n",
       "      <td>3.860358</td>\n",
       "      <td>4.104239</td>\n",
       "      <td>7.300343</td>\n",
       "      <td>2.761999</td>\n",
       "      <td>5.826098</td>\n",
       "      <td>5.114416</td>\n",
       "      <td>6.609636</td>\n",
       "      <td>4.215384</td>\n",
       "      <td>4.463864</td>\n",
       "      <td>3.641061</td>\n",
       "      <td>3.920983</td>\n",
       "      <td>2.670336</td>\n",
       "      <td>2.045817</td>\n",
       "      <td>4.232007</td>\n",
       "    </tr>\n",
       "    <tr>\n",
       "      <th>min</th>\n",
       "      <td>2003.000000</td>\n",
       "      <td>134.000000</td>\n",
       "      <td>1101.000000</td>\n",
       "      <td>47.000000</td>\n",
       "      <td>1101.000000</td>\n",
       "      <td>29.000000</td>\n",
       "      <td>0.000000</td>\n",
       "      <td>13.000000</td>\n",
       "      <td>34.000000</td>\n",
       "      <td>0.000000</td>\n",
       "      <td>4.000000</td>\n",
       "      <td>0.000000</td>\n",
       "      <td>1.000000</td>\n",
       "      <td>0.000000</td>\n",
       "      <td>13.000000</td>\n",
       "      <td>3.000000</td>\n",
       "      <td>2.000000</td>\n",
       "      <td>0.000000</td>\n",
       "      <td>0.000000</td>\n",
       "      <td>5.000000</td>\n",
       "      <td>11.000000</td>\n",
       "      <td>37.000000</td>\n",
       "      <td>0.000000</td>\n",
       "      <td>5.000000</td>\n",
       "      <td>0.000000</td>\n",
       "      <td>2.000000</td>\n",
       "      <td>1.000000</td>\n",
       "      <td>8.000000</td>\n",
       "      <td>2.000000</td>\n",
       "      <td>3.000000</td>\n",
       "      <td>0.000000</td>\n",
       "      <td>0.000000</td>\n",
       "      <td>7.000000</td>\n",
       "    </tr>\n",
       "    <tr>\n",
       "      <th>25%</th>\n",
       "      <td>2007.000000</td>\n",
       "      <td>136.000000</td>\n",
       "      <td>1211.000000</td>\n",
       "      <td>68.000000</td>\n",
       "      <td>1210.000000</td>\n",
       "      <td>57.000000</td>\n",
       "      <td>0.000000</td>\n",
       "      <td>23.000000</td>\n",
       "      <td>51.000000</td>\n",
       "      <td>5.000000</td>\n",
       "      <td>14.000000</td>\n",
       "      <td>11.000000</td>\n",
       "      <td>16.000000</td>\n",
       "      <td>8.000000</td>\n",
       "      <td>22.000000</td>\n",
       "      <td>11.000000</td>\n",
       "      <td>9.000000</td>\n",
       "      <td>4.000000</td>\n",
       "      <td>2.000000</td>\n",
       "      <td>14.000000</td>\n",
       "      <td>20.000000</td>\n",
       "      <td>53.000000</td>\n",
       "      <td>4.000000</td>\n",
       "      <td>16.000000</td>\n",
       "      <td>8.000000</td>\n",
       "      <td>12.000000</td>\n",
       "      <td>8.000000</td>\n",
       "      <td>18.000000</td>\n",
       "      <td>9.000000</td>\n",
       "      <td>9.000000</td>\n",
       "      <td>4.000000</td>\n",
       "      <td>1.000000</td>\n",
       "      <td>16.000000</td>\n",
       "    </tr>\n",
       "    <tr>\n",
       "      <th>50%</th>\n",
       "      <td>2012.000000</td>\n",
       "      <td>137.000000</td>\n",
       "      <td>1277.000000</td>\n",
       "      <td>75.000000</td>\n",
       "      <td>1295.000000</td>\n",
       "      <td>63.000000</td>\n",
       "      <td>0.000000</td>\n",
       "      <td>26.000000</td>\n",
       "      <td>55.000000</td>\n",
       "      <td>7.000000</td>\n",
       "      <td>18.000000</td>\n",
       "      <td>15.000000</td>\n",
       "      <td>21.000000</td>\n",
       "      <td>10.000000</td>\n",
       "      <td>26.000000</td>\n",
       "      <td>14.000000</td>\n",
       "      <td>11.000000</td>\n",
       "      <td>6.000000</td>\n",
       "      <td>4.000000</td>\n",
       "      <td>16.000000</td>\n",
       "      <td>23.000000</td>\n",
       "      <td>58.000000</td>\n",
       "      <td>6.000000</td>\n",
       "      <td>20.000000</td>\n",
       "      <td>11.000000</td>\n",
       "      <td>16.000000</td>\n",
       "      <td>11.000000</td>\n",
       "      <td>21.000000</td>\n",
       "      <td>11.000000</td>\n",
       "      <td>12.000000</td>\n",
       "      <td>6.000000</td>\n",
       "      <td>3.000000</td>\n",
       "      <td>19.000000</td>\n",
       "    </tr>\n",
       "    <tr>\n",
       "      <th>75%</th>\n",
       "      <td>2016.000000</td>\n",
       "      <td>139.000000</td>\n",
       "      <td>1393.000000</td>\n",
       "      <td>82.000000</td>\n",
       "      <td>1393.000000</td>\n",
       "      <td>71.000000</td>\n",
       "      <td>0.000000</td>\n",
       "      <td>29.000000</td>\n",
       "      <td>60.000000</td>\n",
       "      <td>9.000000</td>\n",
       "      <td>22.000000</td>\n",
       "      <td>19.000000</td>\n",
       "      <td>26.000000</td>\n",
       "      <td>13.000000</td>\n",
       "      <td>29.000000</td>\n",
       "      <td>17.000000</td>\n",
       "      <td>14.000000</td>\n",
       "      <td>8.000000</td>\n",
       "      <td>5.000000</td>\n",
       "      <td>19.000000</td>\n",
       "      <td>26.000000</td>\n",
       "      <td>63.000000</td>\n",
       "      <td>8.000000</td>\n",
       "      <td>24.000000</td>\n",
       "      <td>15.000000</td>\n",
       "      <td>21.000000</td>\n",
       "      <td>14.000000</td>\n",
       "      <td>24.000000</td>\n",
       "      <td>14.000000</td>\n",
       "      <td>15.000000</td>\n",
       "      <td>7.000000</td>\n",
       "      <td>4.000000</td>\n",
       "      <td>22.000000</td>\n",
       "    </tr>\n",
       "    <tr>\n",
       "      <th>max</th>\n",
       "      <td>2021.000000</td>\n",
       "      <td>154.000000</td>\n",
       "      <td>1463.000000</td>\n",
       "      <td>121.000000</td>\n",
       "      <td>1463.000000</td>\n",
       "      <td>105.000000</td>\n",
       "      <td>2.000000</td>\n",
       "      <td>44.000000</td>\n",
       "      <td>84.000000</td>\n",
       "      <td>18.000000</td>\n",
       "      <td>41.000000</td>\n",
       "      <td>38.000000</td>\n",
       "      <td>48.000000</td>\n",
       "      <td>26.000000</td>\n",
       "      <td>43.000000</td>\n",
       "      <td>29.000000</td>\n",
       "      <td>28.000000</td>\n",
       "      <td>20.000000</td>\n",
       "      <td>15.000000</td>\n",
       "      <td>30.000000</td>\n",
       "      <td>36.000000</td>\n",
       "      <td>85.000000</td>\n",
       "      <td>18.000000</td>\n",
       "      <td>42.000000</td>\n",
       "      <td>31.000000</td>\n",
       "      <td>39.000000</td>\n",
       "      <td>29.000000</td>\n",
       "      <td>42.000000</td>\n",
       "      <td>23.000000</td>\n",
       "      <td>27.000000</td>\n",
       "      <td>19.000000</td>\n",
       "      <td>13.000000</td>\n",
       "      <td>33.000000</td>\n",
       "    </tr>\n",
       "  </tbody>\n",
       "</table>\n",
       "</div>"
      ],
      "text/plain": [
       "            Season       DayNum      WTeamID       WScore      LTeamID  \\\n",
       "count  1181.000000  1181.000000  1181.000000  1181.000000  1181.000000   \n",
       "mean   2011.650296   139.109229  1293.542760    75.234547  1294.587638   \n",
       "std       5.274224     4.234734   102.884842    10.724755   105.945614   \n",
       "min    2003.000000   134.000000  1101.000000    47.000000  1101.000000   \n",
       "25%    2007.000000   136.000000  1211.000000    68.000000  1210.000000   \n",
       "50%    2012.000000   137.000000  1277.000000    75.000000  1295.000000   \n",
       "75%    2016.000000   139.000000  1393.000000    82.000000  1393.000000   \n",
       "max    2021.000000   154.000000  1463.000000   121.000000  1463.000000   \n",
       "\n",
       "            LScore        NumOT         WFGM         WFGA        WFGM3  \\\n",
       "count  1181.000000  1181.000000  1181.000000  1181.000000  1181.000000   \n",
       "mean     63.707028     0.071126    26.344623    55.462320     7.022862   \n",
       "std      10.305693     0.294045     4.751158     7.225518     2.965677   \n",
       "min      29.000000     0.000000    13.000000    34.000000     0.000000   \n",
       "25%      57.000000     0.000000    23.000000    51.000000     5.000000   \n",
       "50%      63.000000     0.000000    26.000000    55.000000     7.000000   \n",
       "75%      71.000000     0.000000    29.000000    60.000000     9.000000   \n",
       "max     105.000000     2.000000    44.000000    84.000000    18.000000   \n",
       "\n",
       "             WFGA3         WFTM         WFTA          WOR          WDR  \\\n",
       "count  1181.000000  1181.000000  1181.000000  1181.000000  1181.000000   \n",
       "mean     18.298899    15.522439    21.328535    10.523285    25.861135   \n",
       "std       5.679989     6.059217     7.681727     3.978822     5.002307   \n",
       "min       4.000000     0.000000     1.000000     0.000000    13.000000   \n",
       "25%      14.000000    11.000000    16.000000     8.000000    22.000000   \n",
       "50%      18.000000    15.000000    21.000000    10.000000    26.000000   \n",
       "75%      22.000000    19.000000    26.000000    13.000000    29.000000   \n",
       "max      41.000000    38.000000    48.000000    26.000000    43.000000   \n",
       "\n",
       "              WAst          WTO         WStl         WBlk          WPF  \\\n",
       "count  1181.000000  1181.000000  1181.000000  1181.000000  1181.000000   \n",
       "mean     14.259949    11.447925     6.392887     3.944962    16.324301   \n",
       "std       4.341092     3.812563     2.977842     2.526038     3.860358   \n",
       "min       3.000000     2.000000     0.000000     0.000000     5.000000   \n",
       "25%      11.000000     9.000000     4.000000     2.000000    14.000000   \n",
       "50%      14.000000    11.000000     6.000000     4.000000    16.000000   \n",
       "75%      17.000000    14.000000     8.000000     5.000000    19.000000   \n",
       "max      29.000000    28.000000    20.000000    15.000000    30.000000   \n",
       "\n",
       "              LFGM         LFGA        LFGM3        LFGA3         LFTM  \\\n",
       "count  1181.000000  1181.000000  1181.000000  1181.000000  1181.000000   \n",
       "mean     22.911939    57.712108     6.254022    20.502964    11.629128   \n",
       "std       4.104239     7.300343     2.761999     5.826098     5.114416   \n",
       "min      11.000000    37.000000     0.000000     5.000000     0.000000   \n",
       "25%      20.000000    53.000000     4.000000    16.000000     8.000000   \n",
       "50%      23.000000    58.000000     6.000000    20.000000    11.000000   \n",
       "75%      26.000000    63.000000     8.000000    24.000000    15.000000   \n",
       "max      36.000000    85.000000    18.000000    42.000000    31.000000   \n",
       "\n",
       "              LFTA          LOR          LDR         LAst          LTO  \\\n",
       "count  1181.000000  1181.000000  1181.000000  1181.000000  1181.000000   \n",
       "mean     16.617273    10.970364    21.368332    11.409822    12.171041   \n",
       "std       6.609636     4.215384     4.463864     3.641061     3.920983   \n",
       "min       2.000000     1.000000     8.000000     2.000000     3.000000   \n",
       "25%      12.000000     8.000000    18.000000     9.000000     9.000000   \n",
       "50%      16.000000    11.000000    21.000000    11.000000    12.000000   \n",
       "75%      21.000000    14.000000    24.000000    14.000000    15.000000   \n",
       "max      39.000000    29.000000    42.000000    23.000000    27.000000   \n",
       "\n",
       "              LStl         LBlk          LPF  \n",
       "count  1181.000000  1181.000000  1181.000000  \n",
       "mean      5.707875     2.939881    18.853514  \n",
       "std       2.670336     2.045817     4.232007  \n",
       "min       0.000000     0.000000     7.000000  \n",
       "25%       4.000000     1.000000    16.000000  \n",
       "50%       6.000000     3.000000    19.000000  \n",
       "75%       7.000000     4.000000    22.000000  \n",
       "max      19.000000    13.000000    33.000000  "
      ]
     },
     "execution_count": 5,
     "metadata": {},
     "output_type": "execute_result"
    }
   ],
   "source": [
    "# data stats\n",
    "data.describe()"
   ]
  },
  {
   "cell_type": "code",
   "execution_count": 6,
   "id": "e900c0b7",
   "metadata": {},
   "outputs": [
    {
     "data": {
      "text/plain": [
       "<matplotlib.lines.Line2D at 0x7fce9e5fb670>"
      ]
     },
     "execution_count": 6,
     "metadata": {},
     "output_type": "execute_result"
    },
    {
     "data": {
      "image/png": "[encoded data removed]",
      "text/plain": [
       "<Figure size 432x288 with 1 Axes>"
      ]
     },
     "metadata": {
      "needs_background": "light"
     },
     "output_type": "display_data"
    }
   ],
   "source": [
    "# histogram of point differentials\n",
    "sns.histplot(data['WScore']-data['LScore'])\n",
    "plt.axvline(x=(data['WScore']-data['LScore']).mean(),\n",
    "            color='red', ls='--')"
   ]
  },
  {
   "cell_type": "code",
   "execution_count": 7,
   "id": "f0734a10",
   "metadata": {},
   "outputs": [
    {
     "data": {
      "text/plain": [
       "<matplotlib.lines.Line2D at 0x7fce965381c0>"
      ]
     },
     "execution_count": 7,
     "metadata": {},
     "output_type": "execute_result"
    },
    {
     "data": {
      "image/png": "[encoded data removed]",
      "text/plain": [
       "<Figure size 432x288 with 1 Axes>"
      ]
     },
     "metadata": {
      "needs_background": "light"
     },
     "output_type": "display_data"
    }
   ],
   "source": [
    "# histogram of 3 point make differentials\n",
    "sns.histplot(data['WFGM3']-data['LFGM3'])\n",
    "plt.axvline(x=(data['WFGM3']-data['LFGM3']).mean(),\n",
    "            color='red', ls='--')"
   ]
  },
  {
   "cell_type": "code",
   "execution_count": 8,
   "id": "a43cb490",
   "metadata": {},
   "outputs": [
    {
     "data": {
      "text/plain": [
       "<matplotlib.lines.Line2D at 0x7fce9647b760>"
      ]
     },
     "execution_count": 8,
     "metadata": {},
     "output_type": "execute_result"
    },
    {
     "data": {
      "image/png": "[encoded data removed]",
      "text/plain": [
       "<Figure size 432x288 with 1 Axes>"
      ]
     },
     "metadata": {
      "needs_background": "light"
     },
     "output_type": "display_data"
    }
   ],
   "source": [
    "# histogram of free throw make differentials\n",
    "sns.histplot(data['WFTM']-data['LFTM'])\n",
    "plt.axvline(x=(data['WFTM']-data['LFTM']).mean(),\n",
    "            color='red', ls='--')"
   ]
  },
  {
   "cell_type": "code",
   "execution_count": 9,
   "id": "b8dbeb7b",
   "metadata": {},
   "outputs": [
    {
     "data": {
      "text/plain": [
       "<matplotlib.lines.Line2D at 0x7fce963b37f0>"
      ]
     },
     "execution_count": 9,
     "metadata": {},
     "output_type": "execute_result"
    },
    {
     "data": {
      "image/png": "[encoded data removed]",
      "text/plain": [
       "<Figure size 432x288 with 1 Axes>"
      ]
     },
     "metadata": {
      "needs_background": "light"
     },
     "output_type": "display_data"
    }
   ],
   "source": [
    "# histogram of offensive rating differentials\n",
    "sns.histplot(data['WOR']-data['LOR'])\n",
    "plt.axvline(x=(data['WOR']-data['LOR']).mean(),\n",
    "            color='red', ls='--')"
   ]
  },
  {
   "cell_type": "code",
   "execution_count": 10,
   "id": "89840d0f",
   "metadata": {},
   "outputs": [
    {
     "data": {
      "text/plain": [
       "<matplotlib.lines.Line2D at 0x7fce96451610>"
      ]
     },
     "execution_count": 10,
     "metadata": {},
     "output_type": "execute_result"
    },
    {
     "data": {
      "image/png": "[encoded data removed]",
      "text/plain": [
       "<Figure size 432x288 with 1 Axes>"
      ]
     },
     "metadata": {
      "needs_background": "light"
     },
     "output_type": "display_data"
    }
   ],
   "source": [
    "# histogram of defensive rating differentials\n",
    "sns.histplot(data['WDR']-data['LDR'])\n",
    "plt.axvline(x=(data['WDR']-data['LDR']).mean(),\n",
    "            color='red', ls='--')"
   ]
  },
  {
   "cell_type": "code",
   "execution_count": 11,
   "id": "cf5bf603",
   "metadata": {},
   "outputs": [
    {
     "data": {
      "text/plain": [
       "<matplotlib.lines.Line2D at 0x7fce9634ddf0>"
      ]
     },
     "execution_count": 11,
     "metadata": {},
     "output_type": "execute_result"
    },
    {
     "data": {
      "image/png": "[encoded data removed]",
      "text/plain": [
       "<Figure size 432x288 with 1 Axes>"
      ]
     },
     "metadata": {
      "needs_background": "light"
     },
     "output_type": "display_data"
    }
   ],
   "source": [
    "# histogram of personal foul differentials\n",
    "sns.histplot(data['WPF']-data['LPF'])\n",
    "plt.axvline(x=(data['WPF']-data['LPF']).mean(),\n",
    "            color='red', ls='--')"
   ]
  },
  {
   "cell_type": "code",
   "execution_count": 12,
   "id": "4a86e957",
   "metadata": {},
   "outputs": [
    {
     "data": {
      "text/plain": [
       "<matplotlib.lines.Line2D at 0x7fce96253e20>"
      ]
     },
     "execution_count": 12,
     "metadata": {},
     "output_type": "execute_result"
    },
    {
     "data": {
      "image/png": "[encoded data removed]",
      "text/plain": [
       "<Figure size 432x288 with 1 Axes>"
      ]
     },
     "metadata": {
      "needs_background": "light"
     },
     "output_type": "display_data"
    }
   ],
   "source": [
    "# histogram of turnover differentials\n",
    "sns.histplot(data['WTO']-data['LTO'])\n",
    "plt.axvline(x=(data['WTO']-data['LTO']).mean(),\n",
    "            color='red', ls='--')"
   ]
  },
  {
   "cell_type": "code",
   "execution_count": 13,
   "id": "22d106cb",
   "metadata": {},
   "outputs": [
    {
     "data": {
      "text/plain": [
       "<matplotlib.lines.Line2D at 0x7fce96221a00>"
      ]
     },
     "execution_count": 13,
     "metadata": {},
     "output_type": "execute_result"
    },
    {
     "data": {
      "image/png": "[encoded data removed]",
      "text/plain": [
       "<Figure size 432x288 with 1 Axes>"
      ]
     },
     "metadata": {
      "needs_background": "light"
     },
     "output_type": "display_data"
    }
   ],
   "source": [
    "# histogram of assist differentials\n",
    "sns.histplot(data['WAst']-data['LAst'])\n",
    "plt.axvline(x=(data['WAst']-data['LAst']).mean(),\n",
    "            color='red', ls='--')"
   ]
  },
  {
   "cell_type": "code",
   "execution_count": 14,
   "id": "87350d5f",
   "metadata": {},
   "outputs": [
    {
     "data": {
      "text/plain": [
       "<matplotlib.lines.Line2D at 0x7fce962c13d0>"
      ]
     },
     "execution_count": 14,
     "metadata": {},
     "output_type": "execute_result"
    },
    {
     "data": {
      "image/png": "[encoded data removed]",
      "text/plain": [
       "<Figure size 432x288 with 1 Axes>"
      ]
     },
     "metadata": {
      "needs_background": "light"
     },
     "output_type": "display_data"
    }
   ],
   "source": [
    "# histogram of steal differentials\n",
    "sns.histplot(data['WStl']-data['LStl'])\n",
    "plt.axvline(x=(data['WStl']-data['LStl']).mean(),\n",
    "            color='red', ls='--')"
   ]
  },
  {
   "cell_type": "code",
   "execution_count": null,
   "id": "f326d52c",
   "metadata": {},
   "outputs": [],
   "source": []
  }
 ],
 "metadata": {
  "kernelspec": {
   "display_name": "Python 3 (clean)",
   "language": "python",
   "name": "python3_clean"
  },
  "language_info": {
   "codemirror_mode": {
    "name": "ipython",
    "version": 3
   },
   "file_extension": ".py",
   "mimetype": "text/x-python",
   "name": "python",
   "nbconvert_exporter": "python",
   "pygments_lexer": "ipython3",
   "version": "3.9.5"
  }
 },
 "nbformat": 4,
 "nbformat_minor": 5
}
